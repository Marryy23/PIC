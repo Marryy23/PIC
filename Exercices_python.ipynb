{
 "cells": [
  {
   "cell_type": "markdown",
   "metadata": {},
   "source": [
    "## Thème 1 : Exercices numériques simples\n",
    "#### EXO 1\n",
    "#### QUESTION 1.1\n",
    "#### Définition de la fonction pour la question 1 : moyenne de 3 nombres"
   ]
  },
  {
   "cell_type": "code",
   "execution_count": 170,
   "metadata": {},
   "outputs": [],
   "source": [
    "def moyenne_3_nb(a, b, c):\n",
    "      return (a + b + c) / 3"
   ]
  },
  {
   "cell_type": "markdown",
   "metadata": {},
   "source": [
    "#### Tests pour la fonction moyenne_3_nb"
   ]
  },
  {
   "cell_type": "code",
   "execution_count": 171,
   "metadata": {},
   "outputs": [],
   "source": [
    "tests_moyenne_3 = [\n",
    "    (3, 6, -3),\n",
    "    (-3, 0, 3),\n",
    "    (1.5, 2.5, 1.0)\n",
    "]"
   ]
  },
  {
   "cell_type": "markdown",
   "metadata": {},
   "source": [
    "#### Calcul des moyennes"
   ]
  },
  {
   "cell_type": "code",
   "execution_count": 172,
   "metadata": {},
   "outputs": [],
   "source": [
    "resultats_moyenne_3 = [moyenne_3_nb(*test) for test in tests_moyenne_3]"
   ]
  },
  {
   "cell_type": "markdown",
   "metadata": {},
   "source": [
    "#### Affichage des résultats"
   ]
  },
  {
   "cell_type": "code",
   "execution_count": 173,
   "metadata": {},
   "outputs": [
    {
     "name": "stdout",
     "output_type": "stream",
     "text": [
      "Résultats des moyennes simples (3 nombres) : [2.0, 0.0, 1.6666666666666667]\n"
     ]
    }
   ],
   "source": [
    "print(\"Résultats des moyennes simples (3 nombres) :\", resultats_moyenne_3)"
   ]
  },
  {
   "cell_type": "markdown",
   "metadata": {},
   "source": [
    "#### QUESTION 1.2"
   ]
  },
  {
   "cell_type": "code",
   "execution_count": 174,
   "metadata": {},
   "outputs": [],
   "source": [
    "# Définition de la fonction moyenne_ponderee\n",
    "def moyenne_ponderee(a, b, c, pa, pb, pc):\n",
    "    # Calcul de la somme pondérée des valeurs\n",
    "    somme_ponderee = (a * pa + b * pb + c * pc)\n",
    "    # Calcul de la somme des coefficients\n",
    "    somme_coefficients = pa + pb + pc\n",
    "    # Retourne la moyenne pondérée si la somme des coefficients est non nulle\n",
    "    if somme_coefficients != 0:\n",
    "        return somme_ponderee / somme_coefficients\n",
    "    else:\n",
    "        return None  # Pour éviter la division par zéro"
   ]
  },
  {
   "cell_type": "markdown",
   "metadata": {},
   "source": [
    "#### Exemple de tests dans un notebook Jupyter"
   ]
  },
  {
   "cell_type": "code",
   "execution_count": 175,
   "metadata": {},
   "outputs": [],
   "source": [
    "TEST1 = moyenne_ponderee(10, 20, 30, 1, 2, 3)\n",
    "TEST2 = moyenne_ponderee(5, 15, 25, 1, 1, 1)\n",
    "TEST3 = moyenne_ponderee(10, 20, 30, 0, 1, 1)"
   ]
  },
  {
   "cell_type": "markdown",
   "metadata": {},
   "source": [
    "#### Affichage des résultats dans le notebook"
   ]
  },
  {
   "cell_type": "code",
   "execution_count": 176,
   "metadata": {},
   "outputs": [
    {
     "name": "stdout",
     "output_type": "stream",
     "text": [
      "Test 1: 23.333333333333332\n",
      "Test 2: 15.0\n",
      "Test 3: 25.0\n"
     ]
    }
   ],
   "source": [
    "print(f\"Test 1: {TEST1}\")  # Résultat attendu: 23.33\n",
    "print(f\"Test 2: {TEST2}\")  # Résultat attendu: 15.0\n",
    "print(f\"Test 3: {TEST3}\")  # Résultat attendu: 25.0"
   ]
  }
 ],
 "metadata": {
  "kernelspec": {
   "display_name": "Python 3",
   "language": "python",
   "name": "python3"
  },
  "language_info": {
   "codemirror_mode": {
    "name": "ipython",
    "version": 3
   },
   "file_extension": ".py",
   "mimetype": "text/x-python",
   "name": "python",
   "nbconvert_exporter": "python",
   "pygments_lexer": "ipython3",
   "version": "3.13.0"
  }
 },
 "nbformat": 4,
 "nbformat_minor": 2
}
